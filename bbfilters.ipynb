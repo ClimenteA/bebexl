{
 "cells": [
  {
   "cell_type": "code",
   "execution_count": 1,
   "metadata": {},
   "outputs": [],
   "source": [
    "from bebexl import read_excel, write_excel"
   ]
  },
  {
   "cell_type": "code",
   "execution_count": 12,
   "metadata": {},
   "outputs": [],
   "source": [
    "table_Dict = read_excel(\"xlsx_test.xlsx\")"
   ]
  },
  {
   "cell_type": "code",
   "execution_count": 3,
   "metadata": {},
   "outputs": [
    {
     "data": {
      "text/plain": [
       "[0, 4]"
      ]
     },
     "execution_count": 3,
     "metadata": {},
     "output_type": "execute_result"
    }
   ],
   "source": [
    "def index_row(tableDict, rowValue, columnName):\n",
    "    \"\"\"Find row value in column and return a list of idx of where that value was found\"\"\"\n",
    "    rowsWithMatchedValue = []\n",
    "    for col, valli in tableDict.items():\n",
    "        if columnName == col:\n",
    "            for idx, val in enumerate(valli):\n",
    "                if rowValue == val:\n",
    "                    rowsWithMatchedValue.append(idx)                    \n",
    "    \n",
    "    return rowsWithMatchedValue\n",
    "\n",
    "#index_row(tableDict, rowValue='test', columnName='Column1')"
   ]
  },
  {
   "cell_type": "code",
   "execution_count": 5,
   "metadata": {},
   "outputs": [],
   "source": [
    "def filter_column(tableDict, rowValue, columnName, containValue=True):\n",
    "    \"\"\"Filter a column by a given value return the tabledict filetered\n",
    "       if containValue == True then it will keep the rows with rowValue given else not \n",
    "    \"\"\"\n",
    "    #get the indexes where that value was found\n",
    "    idxRows = index_row(tableDict, rowValue, columnName)\n",
    "    \n",
    "    #filter list using filter method of python\n",
    "    for col, valli in tableDict.items():\n",
    "        if columnName == col:\n",
    "            if containValue:\n",
    "                tableDict[columnName] = list(filter(lambda elem: elem == rowValue, valli))\n",
    "            else:\n",
    "                tableDict[columnName] = list(filter(lambda elem: elem != rowValue, valli))\n",
    "    \n",
    "    #deal with the other lists choose to keep or not the values of the list based on containValue parameter\n",
    "    for col, valli in tableDict.items():\n",
    "        if columnName != col: \n",
    "            if containValue:\n",
    "                new_valli = []\n",
    "                for i, val in enumerate(valli):\n",
    "                    if i in idxRows:\n",
    "                        new_valli.append(val)\n",
    "                \n",
    "                tableDict[col] = new_valli\n",
    "            else:\n",
    "                new_valli = []\n",
    "                for i, val in enumerate(valli):\n",
    "                    if i not in idxRows:\n",
    "                        new_valli.append(val)\n",
    "                \n",
    "                tableDict[col] = new_valli\n",
    "        \n",
    "    return tableDict\n",
    "     \n",
    "#tb = filter_column(tableDict, rowValue='test', columnName='Column1', containValue=False)"
   ]
  },
  {
   "cell_type": "code",
   "execution_count": 47,
   "metadata": {},
   "outputs": [
    {
     "name": "stdout",
     "output_type": "stream",
     "text": [
      "test\n",
      "data2\n",
      "dup\n",
      "dup\n",
      "test\n",
      "data6\n",
      "data7\n",
      "data8\n",
      "data9\n",
      "data10\n",
      "data11\n",
      "data12\n",
      "data13\n",
      "data14\n",
      "data15\n",
      "data16\n",
      "data17\n",
      "data18\n"
     ]
    },
    {
     "ename": "IndexError",
     "evalue": "list index out of range",
     "output_type": "error",
     "traceback": [
      "\u001b[1;31m---------------------------------------------------------------------------\u001b[0m",
      "\u001b[1;31mIndexError\u001b[0m                                Traceback (most recent call last)",
      "\u001b[1;32m<ipython-input-47-51515ca38c75>\u001b[0m in \u001b[0;36m<module>\u001b[1;34m()\u001b[0m\n\u001b[0;32m     17\u001b[0m \u001b[1;33m\u001b[0m\u001b[0m\n\u001b[0;32m     18\u001b[0m \u001b[1;33m\u001b[0m\u001b[0m\n\u001b[1;32m---> 19\u001b[1;33m \u001b[0mdrop_duplicates\u001b[0m\u001b[1;33m(\u001b[0m\u001b[0mtable_Dict\u001b[0m\u001b[1;33m)\u001b[0m\u001b[1;33m\u001b[0m\u001b[0m\n\u001b[0m",
      "\u001b[1;32m<ipython-input-47-51515ca38c75>\u001b[0m in \u001b[0;36mdrop_duplicates\u001b[1;34m(tableDict)\u001b[0m\n\u001b[0;32m     11\u001b[0m     \u001b[1;32mfor\u001b[0m \u001b[0mi\u001b[0m \u001b[1;32min\u001b[0m \u001b[0mrange\u001b[0m\u001b[1;33m(\u001b[0m\u001b[0msize_cols\u001b[0m\u001b[1;33m)\u001b[0m\u001b[1;33m:\u001b[0m\u001b[1;33m\u001b[0m\u001b[0m\n\u001b[0;32m     12\u001b[0m         \u001b[1;32mfor\u001b[0m \u001b[0mj\u001b[0m \u001b[1;32min\u001b[0m \u001b[0mrange\u001b[0m\u001b[1;33m(\u001b[0m\u001b[0msize_rows\u001b[0m\u001b[1;33m)\u001b[0m\u001b[1;33m:\u001b[0m\u001b[1;33m\u001b[0m\u001b[0m\n\u001b[1;32m---> 13\u001b[1;33m             \u001b[0mprint\u001b[0m\u001b[1;33m(\u001b[0m\u001b[0mrows\u001b[0m\u001b[1;33m[\u001b[0m\u001b[0mi\u001b[0m\u001b[1;33m]\u001b[0m\u001b[1;33m[\u001b[0m\u001b[0mj\u001b[0m\u001b[1;33m]\u001b[0m\u001b[1;33m)\u001b[0m\u001b[1;33m\u001b[0m\u001b[0m\n\u001b[0m\u001b[0;32m     14\u001b[0m \u001b[1;33m\u001b[0m\u001b[0m\n\u001b[0;32m     15\u001b[0m \u001b[1;33m\u001b[0m\u001b[0m\n",
      "\u001b[1;31mIndexError\u001b[0m: list index out of range"
     ]
    }
   ],
   "source": [
    "def drop_duplicates(tableDict):\n",
    "    \n",
    "    columns = list(tableDict.keys())\n",
    "    rows = list(tableDict.values())\n",
    "    size_cols = len(columns[0])+1\n",
    "    size_rows = len(rows[0])+1\n",
    "    #print(columns)\n",
    "    #print(rows)\n",
    "    #print(size_cols, size_rows)\n",
    "    \n",
    "    for i in range(size_cols):\n",
    "        for j in range(size_rows):\n",
    "            print(rows[i][j])\n",
    "        \n",
    "    \n",
    "    \n",
    "        \n",
    "        \n",
    "drop_duplicates(table_Dict)"
   ]
  },
  {
   "cell_type": "code",
   "execution_count": 46,
   "metadata": {},
   "outputs": [
    {
     "name": "stdout",
     "output_type": "stream",
     "text": [
      "test\n",
      "1\n",
      "dup\n"
     ]
    }
   ],
   "source": [
    "li1 = ['test', 1, 'dup']\n",
    "li2 = ['test2', 2, 'dup']\n",
    "\n",
    "for val in li1:\n",
    "    print(val)\n",
    "    if val "
   ]
  },
  {
   "cell_type": "code",
   "execution_count": 27,
   "metadata": {},
   "outputs": [
    {
     "name": "stdout",
     "output_type": "stream",
     "text": [
      "Column1 Column2 3 dup\n",
      "Column2 Column1 3 dup\n",
      "Column3 Column5 2 dup\n",
      "Column4 Column8 1 \n",
      "Column5 Column8 1 \n",
      "Column6 Column8 1 \n",
      "Column7 Column4 2 dup\n",
      "Column8 Column6 1 \n"
     ]
    }
   ],
   "source": [
    "def drop_duplicates(tableDict):\n",
    "    \n",
    "    columns = list(tableDict.keys())\n",
    "    \n",
    "    for col, valli in tableDict.items():\n",
    "        count = 0\n",
    "        for i, val in enumerate(valli):\n",
    "            for scol in columns:\n",
    "                if scol != col:\n",
    "                    nextVal = tableDict[scol][i]\n",
    "                    if val == nextVal:\n",
    "                        count += 1\n",
    "                        if len(columns) == count:\n",
    "                            print(col, scol, i, val)\n",
    "                            \n",
    "                      \n",
    "        \n",
    "        \n",
    "drop_duplicates(table_Dict)"
   ]
  },
  {
   "cell_type": "code",
   "execution_count": null,
   "metadata": {},
   "outputs": [],
   "source": [
    "\n"
   ]
  },
  {
   "cell_type": "code",
   "execution_count": null,
   "metadata": {},
   "outputs": [],
   "source": []
  },
  {
   "cell_type": "code",
   "execution_count": null,
   "metadata": {},
   "outputs": [],
   "source": []
  },
  {
   "cell_type": "code",
   "execution_count": null,
   "metadata": {},
   "outputs": [],
   "source": []
  },
  {
   "cell_type": "code",
   "execution_count": null,
   "metadata": {},
   "outputs": [],
   "source": []
  },
  {
   "cell_type": "code",
   "execution_count": null,
   "metadata": {},
   "outputs": [],
   "source": []
  },
  {
   "cell_type": "code",
   "execution_count": null,
   "metadata": {},
   "outputs": [],
   "source": []
  },
  {
   "cell_type": "code",
   "execution_count": null,
   "metadata": {},
   "outputs": [],
   "source": []
  },
  {
   "cell_type": "code",
   "execution_count": null,
   "metadata": {},
   "outputs": [],
   "source": []
  },
  {
   "cell_type": "code",
   "execution_count": null,
   "metadata": {},
   "outputs": [],
   "source": []
  },
  {
   "cell_type": "code",
   "execution_count": null,
   "metadata": {},
   "outputs": [],
   "source": []
  },
  {
   "cell_type": "code",
   "execution_count": null,
   "metadata": {},
   "outputs": [],
   "source": []
  },
  {
   "cell_type": "code",
   "execution_count": null,
   "metadata": {},
   "outputs": [],
   "source": []
  },
  {
   "cell_type": "code",
   "execution_count": null,
   "metadata": {},
   "outputs": [],
   "source": []
  },
  {
   "cell_type": "code",
   "execution_count": null,
   "metadata": {},
   "outputs": [],
   "source": []
  },
  {
   "cell_type": "code",
   "execution_count": null,
   "metadata": {},
   "outputs": [],
   "source": []
  },
  {
   "cell_type": "code",
   "execution_count": null,
   "metadata": {},
   "outputs": [],
   "source": []
  },
  {
   "cell_type": "code",
   "execution_count": null,
   "metadata": {},
   "outputs": [],
   "source": []
  },
  {
   "cell_type": "code",
   "execution_count": null,
   "metadata": {},
   "outputs": [],
   "source": []
  },
  {
   "cell_type": "code",
   "execution_count": null,
   "metadata": {},
   "outputs": [],
   "source": []
  },
  {
   "cell_type": "code",
   "execution_count": null,
   "metadata": {},
   "outputs": [],
   "source": []
  },
  {
   "cell_type": "code",
   "execution_count": null,
   "metadata": {},
   "outputs": [],
   "source": []
  },
  {
   "cell_type": "code",
   "execution_count": null,
   "metadata": {},
   "outputs": [],
   "source": []
  },
  {
   "cell_type": "code",
   "execution_count": null,
   "metadata": {},
   "outputs": [],
   "source": []
  },
  {
   "cell_type": "code",
   "execution_count": null,
   "metadata": {},
   "outputs": [],
   "source": []
  },
  {
   "cell_type": "code",
   "execution_count": null,
   "metadata": {},
   "outputs": [],
   "source": []
  },
  {
   "cell_type": "code",
   "execution_count": null,
   "metadata": {},
   "outputs": [],
   "source": []
  },
  {
   "cell_type": "code",
   "execution_count": null,
   "metadata": {},
   "outputs": [],
   "source": []
  },
  {
   "cell_type": "code",
   "execution_count": null,
   "metadata": {},
   "outputs": [],
   "source": []
  },
  {
   "cell_type": "code",
   "execution_count": null,
   "metadata": {},
   "outputs": [],
   "source": []
  }
 ],
 "metadata": {
  "kernelspec": {
   "display_name": "Python 3",
   "language": "python",
   "name": "python3"
  },
  "language_info": {
   "codemirror_mode": {
    "name": "ipython",
    "version": 3
   },
   "file_extension": ".py",
   "mimetype": "text/x-python",
   "name": "python",
   "nbconvert_exporter": "python",
   "pygments_lexer": "ipython3",
   "version": "3.6.6"
  }
 },
 "nbformat": 4,
 "nbformat_minor": 2
}
